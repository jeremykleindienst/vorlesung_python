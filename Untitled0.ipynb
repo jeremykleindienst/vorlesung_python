{
  "nbformat": 4,
  "nbformat_minor": 0,
  "metadata": {
    "colab": {
      "name": "Untitled0.ipynb",
      "provenance": [],
      "collapsed_sections": [],
      "include_colab_link": true
    },
    "kernelspec": {
      "name": "python3",
      "display_name": "Python 3"
    },
    "language_info": {
      "name": "python"
    }
  },
  "cells": [
    {
      "cell_type": "markdown",
      "metadata": {
        "id": "view-in-github",
        "colab_type": "text"
      },
      "source": [
        "<a href=\"https://colab.research.google.com/github/jeremykleindienst/vorlesung_python/blob/main/Untitled0.ipynb\" target=\"_parent\"><img src=\"https://colab.research.google.com/assets/colab-badge.svg\" alt=\"Open In Colab\"/></a>"
      ]
    },
    {
      "cell_type": "code",
      "execution_count": null,
      "metadata": {
        "colab": {
          "base_uri": "https://localhost:8080/"
        },
        "id": "4-mDhToAoKwX",
        "outputId": "64f31639-a73e-46c8-ccb0-a09ac8a1892c"
      },
      "outputs": [
        {
          "output_type": "execute_result",
          "data": {
            "text/plain": [
              "5"
            ]
          },
          "metadata": {},
          "execution_count": 2
        }
      ],
      "source": [
        "2 + 3"
      ]
    },
    {
      "cell_type": "code",
      "source": [
        "print(\"Hallo\")"
      ],
      "metadata": {
        "colab": {
          "base_uri": "https://localhost:8080/"
        },
        "id": "UJfbGsAzo5Fd",
        "outputId": "8676b493-17b2-4e08-c81d-f3e3873fd90b"
      },
      "execution_count": null,
      "outputs": [
        {
          "output_type": "stream",
          "name": "stdout",
          "text": [
            "Hallo\n"
          ]
        }
      ]
    },
    {
      "cell_type": "code",
      "source": [
        "# Kommentar"
      ],
      "metadata": {
        "id": "WycYuhOmpeUe"
      },
      "execution_count": null,
      "outputs": []
    },
    {
      "cell_type": "markdown",
      "source": [
        "Das hier ist ein Test. Ich will gleich ... machen:"
      ],
      "metadata": {
        "id": "fRxSvGY3pbyS"
      }
    },
    {
      "cell_type": "code",
      "source": [
        ""
      ],
      "metadata": {
        "id": "uAGa4joZpjVh"
      },
      "execution_count": null,
      "outputs": []
    },
    {
      "cell_type": "markdown",
      "source": [
        "# Überschrift"
      ],
      "metadata": {
        "id": "M2THTLQzqMvA"
      }
    },
    {
      "cell_type": "markdown",
      "source": [
        "## Unterüberschrift"
      ],
      "metadata": {
        "id": "pFFfwyHkqOws"
      }
    },
    {
      "cell_type": "markdown",
      "source": [
        "*kursiv* oder **fett**"
      ],
      "metadata": {
        "id": "M1Tf2O5bqTdY"
      }
    },
    {
      "cell_type": "code",
      "source": [
        ""
      ],
      "metadata": {
        "id": "3d2dLiWnqW5O"
      },
      "execution_count": null,
      "outputs": []
    }
  ]
}